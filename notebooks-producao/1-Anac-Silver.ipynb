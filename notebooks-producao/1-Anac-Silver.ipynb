{
 "cells": [
  {
   "cell_type": "code",
   "execution_count": 0,
   "metadata": {
    "application/vnd.databricks.v1+cell": {
     "cellMetadata": {
      "byteLimit": 2048000,
      "rowLimit": 10000
     },
     "inputWidgets": {},
     "nuid": "15302c61-edc2-464f-a558-86c04079ca45",
     "showTitle": false,
     "tableResultSettingsMap": {},
     "title": ""
    }
   },
   "outputs": [],
   "source": [
    "input_path = \"dbfs:/Volumes/workspace/anac/bronze/V_OCORRENCIA_AMPLA.json\"\n",
    "output_path = \"/Volumes/workspace/anac/silver\"\n",
    "\n",
    "input_path_silver = \"/Volumes/workspace/anac/silver/anac_silver.parquet\""
   ]
  },
  {
   "cell_type": "code",
   "execution_count": 0,
   "metadata": {
    "application/vnd.databricks.v1+cell": {
     "cellMetadata": {
      "byteLimit": 2048000,
      "rowLimit": 10000
     },
     "inputWidgets": {},
     "nuid": "6aa5ace6-d81b-48be-92cf-a8400b003673",
     "showTitle": false,
     "tableResultSettingsMap": {},
     "title": ""
    }
   },
   "outputs": [],
   "source": [
    "df = (spark.read.json(input_path))"
   ]
  },
  {
   "cell_type": "code",
   "execution_count": 0,
   "metadata": {
    "application/vnd.databricks.v1+cell": {
     "cellMetadata": {
      "byteLimit": 2048000,
      "rowLimit": 10000
     },
     "inputWidgets": {},
     "nuid": "4d7f4bd4-0911-4922-880d-4e00c896c377",
     "showTitle": false,
     "tableResultSettingsMap": {},
     "title": ""
    }
   },
   "outputs": [],
   "source": [
    "df.createOrReplaceTempView(\"temp_anac\")"
   ]
  },
  {
   "cell_type": "code",
   "execution_count": 0,
   "metadata": {
    "application/vnd.databricks.v1+cell": {
     "cellMetadata": {
      "byteLimit": 2048000,
      "rowLimit": 10000
     },
     "inputWidgets": {},
     "nuid": "69753e2e-6351-45ff-aaf1-ed2e5538d1bb",
     "showTitle": false,
     "tableResultSettingsMap": {},
     "title": ""
    }
   },
   "outputs": [],
   "source": [
    "ajustes_int = [\n",
    "      'Lesoes_Desconhecidas_Passageiros'\n",
    "    , 'Lesoes_Desconhecidas_Terceiros'\n",
    "    , 'Lesoes_Desconhecidas_Tripulantes'\n",
    "    , 'Lesoes_Fatais_Passageiros'\n",
    "    , 'Lesoes_Fatais_Terceiros'\n",
    "    , 'Lesoes_Fatais_Tripulantes'\n",
    "    , 'Lesoes_Graves_Passageiros'\n",
    "    , 'Lesoes_Graves_Terceiros'\n",
    "    , 'Lesoes_Graves_Tripulantes'\n",
    "    , 'Lesoes_Leves_Passageiros'\n",
    "    , 'Lesoes_Leves_Terceiros'\n",
    "    , 'Lesoes_Leves_Tripulantes'\n",
    "]\n",
    "\n",
    "for loop in ajustes_int:\n",
    "    df = (df\n",
    "        .withColumn(loop, df[loop].cast(\"int\"))\n",
    "        .fillna(0, subset=loop)\n",
    "        )"
   ]
  },
  {
   "cell_type": "code",
   "execution_count": 0,
   "metadata": {
    "application/vnd.databricks.v1+cell": {
     "cellMetadata": {
      "byteLimit": 2048000,
      "rowLimit": 10000
     },
     "inputWidgets": {},
     "nuid": "6c878e28-825c-4c55-a008-c0cca03abaa3",
     "showTitle": false,
     "tableResultSettingsMap": {},
     "title": ""
    }
   },
   "outputs": [],
   "source": [
    "(df.write.mode(\"overwrite\").parquet(output_path + \"/anac_silver.parquet\"))"
   ]
  },
  {
   "cell_type": "code",
   "execution_count": 0,
   "metadata": {
    "application/vnd.databricks.v1+cell": {
     "cellMetadata": {
      "byteLimit": 2048000,
      "rowLimit": 10000
     },
     "inputWidgets": {},
     "nuid": "1ee85902-1d17-4778-9a36-bf6d2a208730",
     "showTitle": false,
     "tableResultSettingsMap": {},
     "title": ""
    }
   },
   "outputs": [],
   "source": [
    "(spark.read.parquet(input_path_silver))"
   ]
  }
 ],
 "metadata": {
  "application/vnd.databricks.v1+notebook": {
   "computePreferences": null,
   "dashboards": [],
   "environmentMetadata": {
    "base_environment": "",
    "environment_version": "2"
   },
   "inputWidgetPreferences": null,
   "language": "python",
   "notebookMetadata": {
    "mostRecentlyExecutedCommandWithImplicitDF": {
     "commandId": 8868755440097929,
     "dataframes": [
      "_sqldf"
     ]
    },
    "pythonIndentUnit": 4
   },
   "notebookName": "1-Anac-Silver",
   "widgets": {}
  },
  "language_info": {
   "name": "python"
  }
 },
 "nbformat": 4,
 "nbformat_minor": 0
}
