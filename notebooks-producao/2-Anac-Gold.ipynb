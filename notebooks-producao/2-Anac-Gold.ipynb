{
 "cells": [
  {
   "cell_type": "code",
   "execution_count": 0,
   "metadata": {
    "application/vnd.databricks.v1+cell": {
     "cellMetadata": {
      "byteLimit": 2048000,
      "rowLimit": 10000
     },
     "inputWidgets": {},
     "nuid": "0bc77cd5-f610-4619-8711-7d4a653cc089",
     "showTitle": false,
     "tableResultSettingsMap": {},
     "title": ""
    }
   },
   "outputs": [],
   "source": [
    "from pyspark.sql.functions import current_timestamp, date_format, from_utc_timestamp"
   ]
  },
  {
   "cell_type": "code",
   "execution_count": 0,
   "metadata": {
    "application/vnd.databricks.v1+cell": {
     "cellMetadata": {
      "byteLimit": 2048000,
      "rowLimit": 10000
     },
     "inputWidgets": {},
     "nuid": "96c0b46d-d588-4788-a9b8-5b78cd372cc0",
     "showTitle": false,
     "tableResultSettingsMap": {},
     "title": ""
    }
   },
   "outputs": [],
   "source": [
    "input_path = \"dbfs:/Volumes/workspace/anac/silver/anac_silver.parquet/\"\n",
    "output_path = \"/Volumes/workspace/anac/gold\""
   ]
  },
  {
   "cell_type": "code",
   "execution_count": 0,
   "metadata": {
    "application/vnd.databricks.v1+cell": {
     "cellMetadata": {
      "byteLimit": 2048000,
      "rowLimit": 10000
     },
     "inputWidgets": {},
     "nuid": "a13ab281-c0d1-4d77-9ce8-ec31833e1cd9",
     "showTitle": false,
     "tableResultSettingsMap": {},
     "title": ""
    }
   },
   "outputs": [],
   "source": [
    "df = (spark.read.parquet(input_path))\n",
    "\n",
    "colunas = [\n",
    "      'Aerodromo_de_Destino'\n",
    "    , 'Aerodromo_de_Origem'\n",
    "    , 'Classificacao_da_Ocorrência'\n",
    "    , 'Danos_a_Aeronave'\n",
    "    , 'Data_da_Ocorrencia'\n",
    "    , 'Municipio'\n",
    "    , 'UF'\n",
    "    , 'Regiao'\n",
    "    , 'Tipo_de_Aerodromo'\n",
    "    , 'Tipo_de_Ocorrencia'\n",
    "    , 'Lesoes_Desconhecidas_Passageiros'\n",
    "    , 'Lesoes_Desconhecidas_Terceiros'\n",
    "    , 'Lesoes_Desconhecidas_Tripulantes'\n",
    "    , 'Lesoes_Fatais_Passageiros'\n",
    "    , 'Lesoes_Fatais_Terceiros'\n",
    "    , 'Lesoes_Fatais_Tripulantes'\n",
    "    , 'Lesoes_Graves_Passageiros'\n",
    "    , 'Lesoes_Graves_Terceiros'\n",
    "    , 'Lesoes_Graves_Tripulantes'\n",
    "    , 'Lesoes_Leves_Passageiros'\n",
    "    , 'Lesoes_Leves_Terceiros'\n",
    "    , 'Lesoes_Leves_Tripulantes'\n",
    "]\n",
    "\n",
    "df = df.select(colunas)"
   ]
  },
  {
   "cell_type": "code",
   "execution_count": 0,
   "metadata": {
    "application/vnd.databricks.v1+cell": {
     "cellMetadata": {
      "byteLimit": 2048000,
      "rowLimit": 10000
     },
     "inputWidgets": {},
     "nuid": "8ac78133-e86e-46cf-8501-a085f52475fb",
     "showTitle": false,
     "tableResultSettingsMap": {},
     "title": ""
    }
   },
   "outputs": [],
   "source": [
    "colunas_a_somar = [\n",
    "      'Lesoes_Desconhecidas_Passageiros'\n",
    "    , 'Lesoes_Desconhecidas_Terceiros'\n",
    "    , 'Lesoes_Desconhecidas_Tripulantes'\n",
    "    , 'Lesoes_Fatais_Passageiros'\n",
    "    , 'Lesoes_Fatais_Terceiros'\n",
    "    , 'Lesoes_Fatais_Tripulantes'\n",
    "    , 'Lesoes_Graves_Passageiros'\n",
    "    , 'Lesoes_Graves_Terceiros'\n",
    "    , 'Lesoes_Graves_Tripulantes'\n",
    "    , 'Lesoes_Leves_Passageiros'\n",
    "    , 'Lesoes_Leves_Terceiros'\n",
    "    , 'Lesoes_Leves_Tripulantes'\n",
    "]\n",
    "\n",
    "df = (df\n",
    "      .withColumn(\"Total_Lesoes\", sum(df[somar_colunas] for somar_colunas in colunas_a_somar)))"
   ]
  },
  {
   "cell_type": "code",
   "execution_count": 0,
   "metadata": {
    "application/vnd.databricks.v1+cell": {
     "cellMetadata": {
      "byteLimit": 2048000,
      "rowLimit": 10000
     },
     "inputWidgets": {},
     "nuid": "fba1ba88-d4b2-4621-b6ed-225c7c7169ce",
     "showTitle": false,
     "tableResultSettingsMap": {},
     "title": ""
    }
   },
   "outputs": [],
   "source": [
    "df = (df\n",
    "      .withColumnRenamed('Aerodromo_de_Destino', 'Destino')\n",
    "      .withColumnRenamed('Aerodromo_de_Origem', 'Origem')\n",
    "      .withColumnRenamed('Classificacao_da_Ocorrência', 'Classificacao')\n",
    "      .withColumnRenamed('Danos_a_Aeronave', 'Danos')\n",
    "      .withColumnRenamed('Data_da_Ocorrencia', 'Data')\n",
    "      .withColumnRenamed('UF', 'Estado')\n",
    "      .withColumnRenamed('Regiao', 'Regiao')\n",
    "      .withColumn(\"Atualização\",\n",
    "                  date_format(from_utc_timestamp(current_timestamp(), \"America/Sao_Paulo\"), \"yyyy-MM-dd HH:mm:ss\")))"
   ]
  },
  {
   "cell_type": "code",
   "execution_count": 0,
   "metadata": {
    "application/vnd.databricks.v1+cell": {
     "cellMetadata": {
      "byteLimit": 2048000,
      "rowLimit": 10000
     },
     "inputWidgets": {},
     "nuid": "adf50079-09e3-49e3-97cd-f1fc45b104b2",
     "showTitle": false,
     "tableResultSettingsMap": {},
     "title": ""
    }
   },
   "outputs": [],
   "source": [
    "classificacao_a_excluir = [\"Exterior\", \"null\", \"Indeterminado\"]\n",
    "df = (df.filter(~df.Estado.isin(classificacao_a_excluir)))"
   ]
  },
  {
   "cell_type": "code",
   "execution_count": 0,
   "metadata": {
    "application/vnd.databricks.v1+cell": {
     "cellMetadata": {
      "byteLimit": 2048000,
      "rowLimit": 10000
     },
     "inputWidgets": {},
     "nuid": "e547d4d3-3d5a-4438-8a47-d9a870d8182d",
     "showTitle": false,
     "tableResultSettingsMap": {},
     "title": ""
    }
   },
   "outputs": [],
   "source": [
    "(df\n",
    " .write\n",
    " .mode(\"overwrite\")\n",
    " .format(\"parquet\")\n",
    " .partitionBy(\"Estado\")\n",
    " .save(output_path + \"/anac_gold_particionado.parquet\"))"
   ]
  }
 ],
 "metadata": {
  "application/vnd.databricks.v1+notebook": {
   "computePreferences": null,
   "dashboards": [],
   "environmentMetadata": {
    "base_environment": "",
    "environment_version": "2"
   },
   "inputWidgetPreferences": null,
   "language": "python",
   "notebookMetadata": {
    "mostRecentlyExecutedCommandWithImplicitDF": {
     "commandId": 6972848644482479,
     "dataframes": [
      "_sqldf"
     ]
    },
    "pythonIndentUnit": 4
   },
   "notebookName": "2-Anac-Gold",
   "widgets": {}
  },
  "language_info": {
   "name": "python"
  }
 },
 "nbformat": 4,
 "nbformat_minor": 0
}
